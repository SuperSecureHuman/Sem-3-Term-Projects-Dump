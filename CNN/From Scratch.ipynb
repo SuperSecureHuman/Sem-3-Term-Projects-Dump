{
 "cells": [
  {
   "cell_type": "code",
   "execution_count": 1,
   "metadata": {},
   "outputs": [
    {
     "name": "stderr",
     "output_type": "stream",
     "text": [
      "2023-01-26 01:09:44.253423: I tensorflow/core/platform/cpu_feature_guard.cc:193] This TensorFlow binary is optimized with oneAPI Deep Neural Network Library (oneDNN) to use the following CPU instructions in performance-critical operations:  AVX2 AVX512F AVX512_VNNI FMA\n",
      "To enable them in other operations, rebuild TensorFlow with the appropriate compiler flags.\n",
      "2023-01-26 01:09:44.359522: I tensorflow/core/util/port.cc:104] oneDNN custom operations are on. You may see slightly different numerical results due to floating-point round-off errors from different computation orders. To turn them off, set the environment variable `TF_ENABLE_ONEDNN_OPTS=0`.\n",
      "2023-01-26 01:09:44.824716: W tensorflow/compiler/xla/stream_executor/platform/default/dso_loader.cc:64] Could not load dynamic library 'libnvinfer.so.7'; dlerror: libnvinfer.so.7: cannot open shared object file: No such file or directory; LD_LIBRARY_PATH: /home/venom/lib/:/usr/local/cuda/lib64::/usr/local/tensorrt/lib/\n",
      "2023-01-26 01:09:44.824798: W tensorflow/compiler/xla/stream_executor/platform/default/dso_loader.cc:64] Could not load dynamic library 'libnvinfer_plugin.so.7'; dlerror: libnvinfer_plugin.so.7: cannot open shared object file: No such file or directory; LD_LIBRARY_PATH: /home/venom/lib/:/usr/local/cuda/lib64::/usr/local/tensorrt/lib/\n",
      "2023-01-26 01:09:44.824805: W tensorflow/compiler/tf2tensorrt/utils/py_utils.cc:38] TF-TRT Warning: Cannot dlopen some TensorRT libraries. If you would like to use Nvidia GPU with TensorRT, please make sure the missing libraries mentioned above are installed properly.\n"
     ]
    }
   ],
   "source": [
    "import numpy as np\n",
    "from utils import *\n",
    "import tensorflow as tf\n",
    "from sklearn.metrics import accuracy_score, confusion_matrix, f1_score, precision_score, recall_score\n",
    "import pandas as pd\n",
    "import seaborn as sns\n"
   ]
  },
  {
   "cell_type": "code",
   "execution_count": 2,
   "metadata": {},
   "outputs": [],
   "source": [
    "# Load training data\n",
    "(X_train, y_train), (X_test, y_test) = tf.keras.datasets.mnist.load_data()"
   ]
  },
  {
   "cell_type": "code",
   "execution_count": 3,
   "metadata": {},
   "outputs": [
    {
     "name": "stdout",
     "output_type": "stream",
     "text": [
      "(60000, 28, 28)\n",
      "(60000,)\n",
      "(10000, 28, 28)\n",
      "(10000,)\n"
     ]
    }
   ],
   "source": [
    "# Print info on the data\n",
    "print(X_train.shape)\n",
    "print(y_train.shape)\n",
    "print(X_test.shape)\n",
    "print(y_test.shape)"
   ]
  },
  {
   "cell_type": "code",
   "execution_count": null,
   "metadata": {},
   "outputs": [],
   "source": [
    "# Scaling the data\n",
    "X_train = X_train / 255.0\n",
    "X_test = X_test / 255.0"
   ]
  },
  {
   "cell_type": "code",
   "execution_count": 4,
   "metadata": {},
   "outputs": [],
   "source": [
    "# Define the network\n",
    "layers = [\n",
    "  ConvolutionLayer(16,3), # layer with 16 3x3 filters, output (26,26,16)\n",
    "  MaxPoolingLayer(2), # pooling layer 2x2, output (13,13,16)\n",
    "  SoftmaxLayer(13*13*16, 10) # softmax layer with 13*13*16 input and 10 output\n",
    "  ]"
   ]
  },
  {
   "cell_type": "code",
   "execution_count": 5,
   "metadata": {},
   "outputs": [
    {
     "name": "stdout",
     "output_type": "stream",
     "text": [
      "Epoch 1 ->\n",
      "Step 1000. For the last 1000 steps: average loss 0.8110952470686863, accuracy 75.0\n",
      "Step 2000. For the last 1000 steps: average loss 0.4688279029718267, accuracy 85.3\n",
      "Step 3000. For the last 1000 steps: average loss 0.43521389302148383, accuracy 86.3\n",
      "Step 4000. For the last 1000 steps: average loss 0.429510016555148, accuracy 87.1\n",
      "Step 5000. For the last 1000 steps: average loss 0.3331780271015701, accuracy 90.8\n",
      "Step 6000. For the last 1000 steps: average loss 0.3729835740207727, accuracy 89.7\n",
      "Step 7000. For the last 1000 steps: average loss 0.40293171536407824, accuracy 87.7\n",
      "Step 8000. For the last 1000 steps: average loss 0.3127635899154598, accuracy 90.5\n",
      "Step 9000. For the last 1000 steps: average loss 0.3295176524341133, accuracy 90.4\n",
      "Step 10000. For the last 1000 steps: average loss 0.3494092344038905, accuracy 89.4\n",
      "Step 11000. For the last 1000 steps: average loss 0.3707528927478928, accuracy 90.0\n",
      "Step 12000. For the last 1000 steps: average loss 0.3449288537009204, accuracy 89.7\n",
      "Step 13000. For the last 1000 steps: average loss 0.308708777838759, accuracy 90.9\n",
      "Step 14000. For the last 1000 steps: average loss 0.295038295689383, accuracy 91.2\n",
      "Step 15000. For the last 1000 steps: average loss 0.31444159555013607, accuracy 89.9\n",
      "Step 16000. For the last 1000 steps: average loss 0.3276635583667874, accuracy 89.7\n",
      "Step 17000. For the last 1000 steps: average loss 0.34604026554347633, accuracy 90.9\n",
      "Step 18000. For the last 1000 steps: average loss 0.3397984874024459, accuracy 89.6\n",
      "Step 19000. For the last 1000 steps: average loss 0.26015861664366463, accuracy 92.7\n",
      "Step 20000. For the last 1000 steps: average loss 0.2963591833113889, accuracy 91.2\n",
      "Step 21000. For the last 1000 steps: average loss 0.3221777418328497, accuracy 90.5\n",
      "Step 22000. For the last 1000 steps: average loss 0.2695763963123036, accuracy 91.9\n",
      "Step 23000. For the last 1000 steps: average loss 0.26861977186453295, accuracy 92.9\n",
      "Step 24000. For the last 1000 steps: average loss 0.3253844694806389, accuracy 90.3\n",
      "Step 25000. For the last 1000 steps: average loss 0.2997430358101498, accuracy 91.7\n",
      "Step 26000. For the last 1000 steps: average loss 0.2392473851883924, accuracy 93.6\n",
      "Step 27000. For the last 1000 steps: average loss 0.24958890547235152, accuracy 92.7\n",
      "Step 28000. For the last 1000 steps: average loss 0.23434410187959678, accuracy 92.9\n",
      "Step 29000. For the last 1000 steps: average loss 0.3127070709168827, accuracy 91.0\n",
      "Step 30000. For the last 1000 steps: average loss 0.22624596105627623, accuracy 94.1\n",
      "Step 31000. For the last 1000 steps: average loss 0.27209070543835256, accuracy 91.5\n",
      "Step 32000. For the last 1000 steps: average loss 0.2509957175700799, accuracy 93.0\n",
      "Step 33000. For the last 1000 steps: average loss 0.24966697755619088, accuracy 92.9\n",
      "Step 34000. For the last 1000 steps: average loss 0.23077553926789177, accuracy 93.2\n",
      "Step 35000. For the last 1000 steps: average loss 0.2638921544932104, accuracy 92.5\n",
      "Step 36000. For the last 1000 steps: average loss 0.21944747589432284, accuracy 93.6\n",
      "Step 37000. For the last 1000 steps: average loss 0.20605185626303632, accuracy 93.2\n",
      "Step 38000. For the last 1000 steps: average loss 0.23367062092013488, accuracy 93.2\n",
      "Step 39000. For the last 1000 steps: average loss 0.3008677661762476, accuracy 91.5\n",
      "Step 40000. For the last 1000 steps: average loss 0.23737294153702693, accuracy 92.7\n",
      "Step 41000. For the last 1000 steps: average loss 0.21703265283977574, accuracy 93.6\n",
      "Step 42000. For the last 1000 steps: average loss 0.20325857838852923, accuracy 94.5\n",
      "Step 43000. For the last 1000 steps: average loss 0.2171483238233265, accuracy 93.7\n",
      "Step 44000. For the last 1000 steps: average loss 0.2230602052424175, accuracy 93.1\n",
      "Step 45000. For the last 1000 steps: average loss 0.20464781070963273, accuracy 94.1\n",
      "Step 46000. For the last 1000 steps: average loss 0.2241314813039033, accuracy 93.2\n",
      "Step 47000. For the last 1000 steps: average loss 0.270686700951901, accuracy 93.8\n",
      "Step 48000. For the last 1000 steps: average loss 0.27975956674872643, accuracy 92.7\n",
      "Step 49000. For the last 1000 steps: average loss 0.20761832235570973, accuracy 93.6\n",
      "Step 50000. For the last 1000 steps: average loss 0.2323054845967679, accuracy 93.9\n",
      "Step 51000. For the last 1000 steps: average loss 0.20965037654119945, accuracy 93.8\n",
      "Step 52000. For the last 1000 steps: average loss 0.19949456352740955, accuracy 94.0\n",
      "Step 53000. For the last 1000 steps: average loss 0.2549192866136598, accuracy 92.8\n",
      "Step 54000. For the last 1000 steps: average loss 0.24432418060313124, accuracy 93.0\n",
      "Step 55000. For the last 1000 steps: average loss 0.21310468474850575, accuracy 93.3\n",
      "Step 56000. For the last 1000 steps: average loss 0.2314480017150566, accuracy 93.8\n",
      "Step 57000. For the last 1000 steps: average loss 0.21256981088086316, accuracy 92.9\n",
      "Step 58000. For the last 1000 steps: average loss 0.22361373068619939, accuracy 93.5\n",
      "Step 59000. For the last 1000 steps: average loss 0.22237554797398784, accuracy 93.8\n",
      "Step 60000. For the last 1000 steps: average loss 0.1774090368722067, accuracy 94.7\n"
     ]
    }
   ],
   "source": [
    "for epoch in range(1):\n",
    "  print('Epoch {} ->'.format(epoch+1))\n",
    "  # Shuffle training data\n",
    "  permutation = np.random.permutation(len(X_train))\n",
    "  X_train = X_train[permutation]\n",
    "  y_train = y_train[permutation]\n",
    "  # Training the CNN\n",
    "  loss = 0\n",
    "  accuracy = 0\n",
    "  for i, (image, label) in enumerate(zip(X_train, y_train)):\n",
    "    if i % 1000 == 999:  # Every 1000 examples\n",
    "      print(\"Step {}. For the last 1000 steps: average loss {}, accuracy {}\".format(i+1, loss/1000, accuracy/10))\n",
    "      loss = 0\n",
    "      accuracy = 0\n",
    "    loss_1, accuracy_1 = CNN_training(image, label, layers)\n",
    "    loss += loss_1\n",
    "    accuracy += accuracy_1"
   ]
  },
  {
   "cell_type": "code",
   "execution_count": 6,
   "metadata": {},
   "outputs": [
    {
     "name": "stdout",
     "output_type": "stream",
     "text": [
      "Step 1000. For the last 1000 steps: average loss 0.19712009027073032, accuracy 93.3\n",
      "Step 2000. For the last 1000 steps: average loss 0.286415287715243, accuracy 91.2\n",
      "Step 3000. For the last 1000 steps: average loss 0.25250954947609006, accuracy 92.3\n",
      "Step 4000. For the last 1000 steps: average loss 0.23797447988993864, accuracy 92.7\n",
      "Step 5000. For the last 1000 steps: average loss 0.24060947015322223, accuracy 93.3\n",
      "Step 6000. For the last 1000 steps: average loss 0.12302906817720441, accuracy 96.8\n",
      "Step 7000. For the last 1000 steps: average loss 0.1727259832338689, accuracy 95.0\n",
      "Step 8000. For the last 1000 steps: average loss 0.1271702276681902, accuracy 97.0\n",
      "Step 9000. For the last 1000 steps: average loss 0.07254330962987215, accuracy 97.9\n",
      "Step 10000. For the last 1000 steps: average loss 0.19359261675894632, accuracy 94.2\n"
     ]
    }
   ],
   "source": [
    "# Test the CNN\n",
    "output_labels = []\n",
    "loss = 0\n",
    "accuracy = 0\n",
    "for i, (image, label) in enumerate(zip(X_test, y_test)):\n",
    "    if i % 1000 == 999: # Every 100 examples\n",
    "        print(\"Step {}. For the last 1000 steps: average loss {}, accuracy {}\".format(i+1, loss/1000, accuracy/10))\n",
    "        loss = 0\n",
    "        accuracy = 0\n",
    "    output, loss_1, accuracy_1 = CNN_forward(image, label, layers)\n",
    "    loss += loss_1\n",
    "    accuracy += accuracy_1\n",
    "    output_labels.append(np.argmax(output))"
   ]
  },
  {
   "cell_type": "code",
   "execution_count": 7,
   "metadata": {},
   "outputs": [
    {
     "data": {
      "text/html": [
       "<div>\n",
       "<style scoped>\n",
       "    .dataframe tbody tr th:only-of-type {\n",
       "        vertical-align: middle;\n",
       "    }\n",
       "\n",
       "    .dataframe tbody tr th {\n",
       "        vertical-align: top;\n",
       "    }\n",
       "\n",
       "    .dataframe thead th {\n",
       "        text-align: right;\n",
       "    }\n",
       "</style>\n",
       "<table border=\"1\" class=\"dataframe\">\n",
       "  <thead>\n",
       "    <tr style=\"text-align: right;\">\n",
       "      <th></th>\n",
       "      <th>Metrics</th>\n",
       "    </tr>\n",
       "  </thead>\n",
       "  <tbody>\n",
       "    <tr>\n",
       "      <th>accuracy</th>\n",
       "      <td>0.9438</td>\n",
       "    </tr>\n",
       "    <tr>\n",
       "      <th>precision</th>\n",
       "      <td>0.944554</td>\n",
       "    </tr>\n",
       "    <tr>\n",
       "      <th>recall</th>\n",
       "      <td>0.9438</td>\n",
       "    </tr>\n",
       "    <tr>\n",
       "      <th>f1</th>\n",
       "      <td>0.943619</td>\n",
       "    </tr>\n",
       "  </tbody>\n",
       "</table>\n",
       "</div>"
      ],
      "text/plain": [
       "            Metrics\n",
       "accuracy     0.9438\n",
       "precision  0.944554\n",
       "recall       0.9438\n",
       "f1         0.943619"
      ]
     },
     "execution_count": 7,
     "metadata": {},
     "output_type": "execute_result"
    }
   ],
   "source": [
    "metrics = pd.DataFrame(\n",
    "    index=['accuracy', 'precision', 'recall', 'f1'], columns=['Metrics'])\n",
    "metrics.loc['accuracy'] = accuracy_score(y_test, output_labels)\n",
    "metrics.loc['precision'] = precision_score(y_test, output_labels, average='weighted')\n",
    "metrics.loc['recall'] = recall_score(y_test, output_labels, average='weighted')\n",
    "metrics.loc['f1'] = f1_score(y_test, output_labels, average='weighted')\n",
    "metrics\n"
   ]
  },
  {
   "cell_type": "code",
   "execution_count": 8,
   "metadata": {},
   "outputs": [
    {
     "data": {
      "text/plain": [
       "Text(159.0, 0.5, 'Truth')"
      ]
     },
     "execution_count": 8,
     "metadata": {},
     "output_type": "execute_result"
    },
    {
     "data": {
      "image/png": "[encoded data removed]",
      "text/plain": [
       "<Figure size 1440x1008 with 2 Axes>"
      ]
     },
     "metadata": {
      "needs_background": "light"
     },
     "output_type": "display_data"
    }
   ],
   "source": [
    "import seaborn as sns\n",
    "import matplotlib.pyplot as plt\n",
    "\n",
    "# plot confusion matrix\n",
    "cm = confusion_matrix(y_test, output_labels)\n",
    "plt.figure(figsize=(20, 14))\n",
    "sns.heatmap(cm, annot=True, fmt='d')\n",
    "plt.xlabel('Predicted')\n",
    "plt.ylabel('Truth')\n"
   ]
  },
  {
   "attachments": {},
   "cell_type": "markdown",
   "metadata": {},
   "source": [
    "# CIFAR-10"
   ]
  },
  {
   "cell_type": "code",
   "execution_count": 9,
   "metadata": {},
   "outputs": [],
   "source": [
    "(X_train, y_train), (X_test, y_test) = tf.keras.datasets.cifar10.load_data()\n",
    "# convert to grayscale\n",
    "X_train = np.mean(X_train, axis=3)\n",
    "X_test = np.mean(X_test, axis=3)\n"
   ]
  },
  {
   "cell_type": "code",
   "execution_count": 10,
   "metadata": {},
   "outputs": [],
   "source": [
    "X_train = X_train.reshape(X_train.shape[0], X_train.shape[1], X_train.shape[2])\n",
    "X_test = X_test.reshape(X_test.shape[0], X_test.shape[1], X_test.shape[2])\n"
   ]
  },
  {
   "cell_type": "code",
   "execution_count": null,
   "metadata": {},
   "outputs": [],
   "source": [
    "# Scaling the data\n",
    "X_train = X_train / 255.0\n",
    "X_test = X_test / 255.0\n"
   ]
  },
  {
   "cell_type": "code",
   "execution_count": 11,
   "metadata": {},
   "outputs": [],
   "source": [
    "layers = [\n",
    "    ConvolutionLayer(16, 3),  # layer with 16 3x3 filters, output (30,30,16)\n",
    "    MaxPoolingLayer(2),  # pooling layer 2x2, output (15,15,16)\n",
    "    # softmax layer with 15*15*16 input and 10 output\n",
    "    SoftmaxLayer(15*15*16, 10)\n",
    "]\n"
   ]
  },
  {
   "cell_type": "code",
   "execution_count": 12,
   "metadata": {},
   "outputs": [
    {
     "name": "stdout",
     "output_type": "stream",
     "text": [
      "Epoch 1 ->\n",
      "Step 1000. For the last 1000 steps: average loss [2.333238], accuracy 18.1\n",
      "Step 2000. For the last 1000 steps: average loss [2.08863711], accuracy 24.1\n",
      "Step 3000. For the last 1000 steps: average loss [2.06732268], accuracy 24.7\n",
      "Step 4000. For the last 1000 steps: average loss [2.0636058], accuracy 26.8\n",
      "Step 5000. For the last 1000 steps: average loss [2.10181395], accuracy 25.6\n",
      "Step 6000. For the last 1000 steps: average loss [2.07629208], accuracy 25.7\n",
      "Step 7000. For the last 1000 steps: average loss [2.04549295], accuracy 30.8\n",
      "Step 8000. For the last 1000 steps: average loss [2.02271753], accuracy 28.3\n",
      "Step 9000. For the last 1000 steps: average loss [2.08596945], accuracy 28.4\n",
      "Step 10000. For the last 1000 steps: average loss [2.17761434], accuracy 24.1\n",
      "Step 11000. For the last 1000 steps: average loss [2.24162389], accuracy 26.6\n",
      "Step 12000. For the last 1000 steps: average loss [2.2610369], accuracy 24.7\n",
      "Step 13000. For the last 1000 steps: average loss [2.22076179], accuracy 26.9\n",
      "Step 14000. For the last 1000 steps: average loss [2.21722278], accuracy 25.9\n",
      "Step 15000. For the last 1000 steps: average loss [2.31848585], accuracy 23.4\n",
      "Step 16000. For the last 1000 steps: average loss [2.357913], accuracy 22.0\n",
      "Step 17000. For the last 1000 steps: average loss [2.23183461], accuracy 24.9\n",
      "Step 18000. For the last 1000 steps: average loss [2.29030417], accuracy 23.8\n",
      "Step 19000. For the last 1000 steps: average loss [2.34622997], accuracy 27.3\n",
      "Step 20000. For the last 1000 steps: average loss [2.43316899], accuracy 25.0\n",
      "Step 21000. For the last 1000 steps: average loss [2.52024813], accuracy 22.8\n",
      "Step 22000. For the last 1000 steps: average loss [3.22348376], accuracy 18.9\n",
      "Step 23000. For the last 1000 steps: average loss [2.61582549], accuracy 25.6\n",
      "Step 24000. For the last 1000 steps: average loss [2.64281462], accuracy 24.8\n",
      "Step 25000. For the last 1000 steps: average loss [2.9496566], accuracy 22.8\n",
      "Step 26000. For the last 1000 steps: average loss [2.75521824], accuracy 25.0\n",
      "Step 27000. For the last 1000 steps: average loss [2.79155183], accuracy 21.2\n",
      "Step 28000. For the last 1000 steps: average loss [2.80741262], accuracy 21.1\n",
      "Step 29000. For the last 1000 steps: average loss [2.54640346], accuracy 24.9\n",
      "Step 30000. For the last 1000 steps: average loss [3.03720104], accuracy 25.7\n",
      "Step 31000. For the last 1000 steps: average loss [2.44615344], accuracy 27.0\n",
      "Step 32000. For the last 1000 steps: average loss [2.29406778], accuracy 29.6\n",
      "Step 33000. For the last 1000 steps: average loss [2.54203253], accuracy 25.0\n",
      "Step 34000. For the last 1000 steps: average loss [2.91757147], accuracy 22.1\n",
      "Step 35000. For the last 1000 steps: average loss [2.96057977], accuracy 20.6\n",
      "Step 36000. For the last 1000 steps: average loss [2.87833946], accuracy 22.3\n",
      "Step 37000. For the last 1000 steps: average loss [2.83301698], accuracy 23.1\n",
      "Step 38000. For the last 1000 steps: average loss [2.91291103], accuracy 22.6\n",
      "Step 39000. For the last 1000 steps: average loss [2.76386673], accuracy 24.1\n",
      "Step 40000. For the last 1000 steps: average loss [2.88731459], accuracy 22.9\n",
      "Step 41000. For the last 1000 steps: average loss [2.98350805], accuracy 23.5\n",
      "Step 42000. For the last 1000 steps: average loss [3.45390562], accuracy 21.4\n",
      "Step 43000. For the last 1000 steps: average loss [3.71648574], accuracy 23.8\n",
      "Step 44000. For the last 1000 steps: average loss [4.59239693], accuracy 22.7\n",
      "Step 45000. For the last 1000 steps: average loss [5.34210356], accuracy 16.7\n",
      "Step 46000. For the last 1000 steps: average loss [4.56639996], accuracy 20.6\n",
      "Step 47000. For the last 1000 steps: average loss [4.2944889], accuracy 19.9\n",
      "Step 48000. For the last 1000 steps: average loss [3.89397951], accuracy 20.2\n",
      "Step 49000. For the last 1000 steps: average loss [4.20801916], accuracy 20.4\n",
      "Step 50000. For the last 1000 steps: average loss [4.36785271], accuracy 19.9\n"
     ]
    }
   ],
   "source": [
    "for epoch in range(1):\n",
    "  print('Epoch {} ->'.format(epoch+1))\n",
    "  # Shuffle training data\n",
    "  permutation = np.random.permutation(len(X_train))\n",
    "  X_train = X_train[permutation]\n",
    "  y_train = y_train[permutation]\n",
    "  # Training the CNN\n",
    "  loss = 0\n",
    "  accuracy = 0\n",
    "  for i, (image, label) in enumerate(zip(X_train, y_train)):\n",
    "    if i % 1000 == 999:  # Every 1000 examples\n",
    "      print(\"Step {}. For the last 1000 steps: average loss {}, accuracy {}\".format(\n",
    "          i+1, loss/1000, accuracy/10))\n",
    "      loss = 0\n",
    "      accuracy = 0\n",
    "    loss_1, accuracy_1 = CNN_training(image, label, layers)\n",
    "    loss += loss_1\n",
    "    accuracy += accuracy_1\n"
   ]
  },
  {
   "cell_type": "code",
   "execution_count": 13,
   "metadata": {},
   "outputs": [
    {
     "name": "stdout",
     "output_type": "stream",
     "text": [
      "Step 1000. For the last 1000 steps: average loss [6.49565331], accuracy 18.6\n",
      "Step 2000. For the last 1000 steps: average loss [6.47090441], accuracy 18.2\n",
      "Step 3000. For the last 1000 steps: average loss [6.59916284], accuracy 17.0\n",
      "Step 4000. For the last 1000 steps: average loss [6.51554874], accuracy 16.5\n",
      "Step 5000. For the last 1000 steps: average loss [6.46951619], accuracy 17.9\n",
      "Step 6000. For the last 1000 steps: average loss [6.71537256], accuracy 14.3\n",
      "Step 7000. For the last 1000 steps: average loss [6.62009309], accuracy 16.7\n",
      "Step 8000. For the last 1000 steps: average loss [6.511097], accuracy 16.3\n",
      "Step 9000. For the last 1000 steps: average loss [6.23707656], accuracy 19.0\n",
      "Step 10000. For the last 1000 steps: average loss [6.62423014], accuracy 16.7\n"
     ]
    }
   ],
   "source": [
    "# Test the CNN\n",
    "output_labels = []\n",
    "loss = 0\n",
    "accuracy = 0\n",
    "for i, (image, label) in enumerate(zip(X_test, y_test)):\n",
    "    if i % 1000 == 999: # Every 100 examples\n",
    "        print(\"Step {}. For the last 1000 steps: average loss {}, accuracy {}\".format(i+1, loss/1000, accuracy/10))\n",
    "        loss = 0\n",
    "        accuracy = 0\n",
    "    output, loss_1, accuracy_1 = CNN_forward(image, label, layers)\n",
    "    loss += loss_1\n",
    "    accuracy += accuracy_1\n",
    "    output_labels.append(np.argmax(output))"
   ]
  },
  {
   "cell_type": "code",
   "execution_count": 14,
   "metadata": {},
   "outputs": [
    {
     "name": "stderr",
     "output_type": "stream",
     "text": [
      "/home/venom/miniconda3/lib/python3.8/site-packages/sklearn/metrics/_classification.py:1334: UndefinedMetricWarning: Precision is ill-defined and being set to 0.0 in labels with no predicted samples. Use `zero_division` parameter to control this behavior.\n",
      "  _warn_prf(average, modifier, msg_start, len(result))\n"
     ]
    },
    {
     "data": {
      "text/html": [
       "<div>\n",
       "<style scoped>\n",
       "    .dataframe tbody tr th:only-of-type {\n",
       "        vertical-align: middle;\n",
       "    }\n",
       "\n",
       "    .dataframe tbody tr th {\n",
       "        vertical-align: top;\n",
       "    }\n",
       "\n",
       "    .dataframe thead th {\n",
       "        text-align: right;\n",
       "    }\n",
       "</style>\n",
       "<table border=\"1\" class=\"dataframe\">\n",
       "  <thead>\n",
       "    <tr style=\"text-align: right;\">\n",
       "      <th></th>\n",
       "      <th>Metrics</th>\n",
       "    </tr>\n",
       "  </thead>\n",
       "  <tbody>\n",
       "    <tr>\n",
       "      <th>accuracy</th>\n",
       "      <td>0.1712</td>\n",
       "    </tr>\n",
       "    <tr>\n",
       "      <th>precision</th>\n",
       "      <td>0.350828</td>\n",
       "    </tr>\n",
       "    <tr>\n",
       "      <th>recall</th>\n",
       "      <td>0.1712</td>\n",
       "    </tr>\n",
       "    <tr>\n",
       "      <th>f1</th>\n",
       "      <td>0.095026</td>\n",
       "    </tr>\n",
       "  </tbody>\n",
       "</table>\n",
       "</div>"
      ],
      "text/plain": [
       "            Metrics\n",
       "accuracy     0.1712\n",
       "precision  0.350828\n",
       "recall       0.1712\n",
       "f1         0.095026"
      ]
     },
     "execution_count": 14,
     "metadata": {},
     "output_type": "execute_result"
    }
   ],
   "source": [
    "metrics = pd.DataFrame(\n",
    "    index=['accuracy', 'precision', 'recall', 'f1'], columns=['Metrics'])\n",
    "metrics.loc['accuracy'] = accuracy_score(y_test, output_labels)\n",
    "metrics.loc['precision'] = precision_score(\n",
    "    y_test, output_labels, average='weighted')\n",
    "metrics.loc['recall'] = recall_score(y_test, output_labels, average='weighted')\n",
    "metrics.loc['f1'] = f1_score(y_test, output_labels, average='weighted')\n",
    "metrics\n"
   ]
  },
  {
   "cell_type": "code",
   "execution_count": 15,
   "metadata": {},
   "outputs": [
    {
     "data": {
      "text/plain": [
       "Text(159.0, 0.5, 'Truth')"
      ]
     },
     "execution_count": 15,
     "metadata": {},
     "output_type": "execute_result"
    },
    {
     "data": {
      "image/png": "[encoded data removed]",
      "text/plain": [
       "<Figure size 1440x1008 with 2 Axes>"
      ]
     },
     "metadata": {
      "needs_background": "light"
     },
     "output_type": "display_data"
    }
   ],
   "source": [
    "# plot confusion matrix, take classes from cifar10\n",
    "cm = confusion_matrix(y_test, output_labels)\n",
    "cm = pd.DataFrame(cm, index=['airplane', 'automobile', 'bird', 'cat', 'deer', 'dog', 'frog', 'horse', 'ship', 'truck'], columns=['airplane', 'automobile', 'bird', 'cat', 'deer', 'dog', 'frog', 'horse', 'ship', 'truck'])\n",
    "plt.figure(figsize=(20,14))\n",
    "sns.heatmap(cm, annot=True, fmt='d')\n",
    "plt.xlabel('Predicted')\n",
    "plt.ylabel('Truth')"
   ]
  },
  {
   "cell_type": "code",
   "execution_count": null,
   "metadata": {},
   "outputs": [],
   "source": []
  },
  {
   "cell_type": "code",
   "execution_count": null,
   "metadata": {},
   "outputs": [],
   "source": []
  }
 ],
 "metadata": {
  "kernelspec": {
   "display_name": "base",
   "language": "python",
   "name": "python3"
  },
  "language_info": {
   "codemirror_mode": {
    "name": "ipython",
    "version": 3
   },
   "file_extension": ".py",
   "mimetype": "text/x-python",
   "name": "python",
   "nbconvert_exporter": "python",
   "pygments_lexer": "ipython3",
   "version": "3.8.13 (default, Mar 28 2022, 11:38:47) \n[GCC 7.5.0]"
  },
  "orig_nbformat": 4,
  "vscode": {
   "interpreter": {
    "hash": "f401cf1dbab24df559ae8789ef7eacae25a0fecff741eceb08aecb7249ab0875"
   }
  }
 },
 "nbformat": 4,
 "nbformat_minor": 2
}
